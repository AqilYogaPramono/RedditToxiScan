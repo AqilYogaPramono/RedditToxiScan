{
 "cells": [
  {
   "cell_type": "code",
   "execution_count": 1,
   "metadata": {},
   "outputs": [],
   "source": [
    "import pandas as pd\n",
    "import os\n",
    "from datetime import datetime"
   ]
  },
  {
   "cell_type": "code",
   "execution_count": 14,
   "metadata": {},
   "outputs": [
    {
     "name": "stdout",
     "output_type": "stream",
     "text": [
      "File ditemukan: ../rawsDataset/data1.tsv\n",
      "File ditemukan: ../rawsDataset/data_toxic.csv\n",
      "Direktori ditemukan: ../cleanDataset\n"
     ]
    }
   ],
   "source": [
    "data1_path = '../rawsDataset/data1.tsv'\n",
    "data2_path = '../rawsDataset/data_toxic.csv'\n",
    "clean_dataset_dir = '../cleanDataset'\n",
    "\n",
    "def check_path(path):\n",
    "    if os.path.exists(path):\n",
    "        if os.path.isfile(path):\n",
    "            print(f\"File ditemukan: {path}\")\n",
    "        elif os.path.isdir(path):\n",
    "            print(f\"Direktori ditemukan: {path}\")\n",
    "        else:\n",
    "            print(f\"Path ada, tapi bukan file atau direktori biasa: {path}\")\n",
    "    else:\n",
    "        print(f\"Path TIDAK ditemukan: {path}\")\n",
    "\n",
    "check_path(data1_path)\n",
    "check_path(data2_path)check_path(clean_dataset_dir)"
   ]
  },
  {
   "cell_type": "code",
   "execution_count": 16,
   "metadata": {},
   "outputs": [
    {
     "name": "stdout",
     "output_type": "stream",
     "text": [
      "Data1.tsv berhasil dibaca: 1403 baris\n",
      "Data_toxic.csv berhasil dibaca: 778 baris\n"
     ]
    }
   ],
   "source": [
    "data1_df = pd.read_csv(data1_path, sep='\\t')\n",
    "print(f\"Data1.tsv berhasil dibaca: {len(data1_df)} baris\")\n",
    "\n",
    "data2_df = pd.read_csv(data2_path)  \n",
    "print(f\"Data_toxic.csv berhasil dibaca: {len(data2_df)} baris\")"
   ]
  },
  {
   "cell_type": "code",
   "execution_count": 17,
   "metadata": {},
   "outputs": [
    {
     "name": "stdout",
     "output_type": "stream",
     "text": [
      "Total baris: 1403\n",
      "CB (toxic=1): 777\n"
     ]
    }
   ],
   "source": [
    "data1_df['toxic'] = data1_df['label'].map({'CB': 1, 'Non_CB': 0})\n",
    "data1_processed = data1_df.rename(columns={'text': 'comments'})[['comments', 'toxic']].copy()\n",
    "\n",
    "print(f\"Total baris: {len(data1_processed)}\")\n",
    "print(f\"CB (toxic=1): {data1_processed['toxic'].sum()}\")"
   ]
  },
  {
   "cell_type": "code",
   "execution_count": 19,
   "metadata": {},
   "outputs": [
    {
     "name": "stdout",
     "output_type": "stream",
     "text": [
      "Total baris: 778\n",
      "Toxic (1): 432\n"
     ]
    }
   ],
   "source": [
    "data2_processed = data2_df.rename(columns={'processed_text': 'comments'})\n",
    "\n",
    "print(f\"Total baris: {len(data2_processed)}\")\n",
    "print(f\"Toxic (1): {data2_processed['toxic'].sum()}\")"
   ]
  },
  {
   "cell_type": "code",
   "execution_count": 20,
   "metadata": {},
   "outputs": [
    {
     "name": "stdout",
     "output_type": "stream",
     "text": [
      "Duplikat dihapus: 113\n",
      "Total baris akhir: 2068\n"
     ]
    }
   ],
   "source": [
    "merged_df = pd.concat([data1_processed, data2_processed], ignore_index=True)\n",
    "before = len(merged_df)\n",
    "\n",
    "merged_df = merged_df.drop_duplicates(subset=['comments'])\n",
    "after = len(merged_df)\n",
    "\n",
    "print(f\"Duplikat dihapus: {before - after}\")\n",
    "print(f\"Total baris akhir: {after}\")"
   ]
  },
  {
   "cell_type": "code",
   "execution_count": 28,
   "metadata": {},
   "outputs": [
    {
     "name": "stdout",
     "output_type": "stream",
     "text": [
      "File berhasil disimpan\n",
      "- Total komentar: 2068\n",
      "- Toxic: 1173\n",
      "- Non-toxic: 895\n"
     ]
    }
   ],
   "source": [
    "timestamp = datetime.now().strftime(\"%Y%m%d_%H%M%S\")\n",
    "output_filename = f\"clean_{timestamp}.csv\"\n",
    "output_path = os.path.join(clean_dataset_dir, output_filename)\n",
    "\n",
    "merged_df.to_csv(output_path, index=False, encoding='utf-8')\n",
    "print(\"File berhasil disimpan\")\n",
    "print(f\"- Total komentar: {len(merged_df)}\")\n",
    "print(f\"- Toxic: {merged_df['toxic'].sum()}\")\n",
    "print(f\"- Non-toxic: {len(merged_df) - merged_df['toxic'].sum()}\")\n"
   ]
  }
 ],
 "metadata": {
  "kernelspec": {
   "display_name": "Python 3",
   "language": "python",
   "name": "python3"
  },
  "language_info": {
   "codemirror_mode": {
    "name": "ipython",
    "version": 3
   },
   "file_extension": ".py",
   "mimetype": "text/x-python",
   "name": "python",
   "nbconvert_exporter": "python",
   "pygments_lexer": "ipython3",
   "version": "3.13.1"
  }
 },
 "nbformat": 4,
 "nbformat_minor": 2
}
