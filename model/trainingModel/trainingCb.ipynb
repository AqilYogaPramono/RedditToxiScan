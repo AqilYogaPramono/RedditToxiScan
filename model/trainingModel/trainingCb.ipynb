{
  "cells": [
    {
      "cell_type": "code",
      "execution_count": 51,
      "metadata": {
        "id": "RNzn5hPxr_DQ"
      },
      "outputs": [],
      "source": [
        "from google.colab import drive\n",
        "import pandas as pd\n",
        "import numpy as np\n",
        "import matplotlib.pyplot as plt\n",
        "import seaborn as sns\n",
        "from sklearn.model_selection import train_test_split, cross_val_score, GridSearchCV\n",
        "from sklearn.feature_extraction.text import TfidfVectorizer\n",
        "from sklearn.linear_model import LogisticRegression\n",
        "from sklearn.ensemble import RandomForestClassifier\n",
        "from sklearn.svm import SVC\n",
        "from sklearn.naive_bayes import MultinomialNB\n",
        "from sklearn.metrics import (classification_report, confusion_matrix, accuracy_score, precision_score, recall_score, f1_score)\n",
        "from sklearn.pipeline import Pipeline\n",
        "import re\n",
        "import string\n",
        "import pickle\n",
        "import warnings\n",
        "import os"
      ]
    },
    {
      "cell_type": "code",
      "execution_count": 53,
      "metadata": {
        "colab": {
          "base_uri": "https://localhost:8080/"
        },
        "id": "kSMhIvX00phH",
        "outputId": "d3db5a59-3780-4355-c191-9fe43400e157"
      },
      "outputs": [
        {
          "name": "stdout",
          "output_type": "stream",
          "text": [
            "Drive already mounted at /content/drive; to attempt to forcibly remount, call drive.mount(\"/content/drive\", force_remount=True).\n"
          ]
        }
      ],
      "source": [
        "drive.mount('/content/drive')\n",
        "\n",
        "file_path = '/content/drive/MyDrive/projek/dataset/RedditToxiScan/clean_20250621_222316.csv'\n",
        "\n",
        "df = pd.read_csv(file_path)"
      ]
    },
    {
      "cell_type": "code",
      "execution_count": 54,
      "metadata": {
        "colab": {
          "base_uri": "https://localhost:8080/"
        },
        "id": "BCFCZf47jCs4",
        "outputId": "2f5e81d1-d510-42af-aad3-b52de4814d80"
      },
      "outputs": [
        {
          "name": "stdout",
          "output_type": "stream",
          "text": [
            "                                            comments  toxic\n",
            "0                       klo fadli zon goblok boleeeh      1\n",
            "1  jangan nyinyirin pak fadli zon dia gitu2 punya...      1\n",
            "2  kritik siapa bisa di penjara fadli zon kritik ...      1\n",
            "3  hati penuh dendam pikiran selalu negatif mata ...      1\n",
            "4  kerja anda apa zon bisanya cuma nyinyi r aja s...      1\n",
            "toxic\n",
            "1    1173\n",
            "0     895\n",
            "Name: count, dtype: int64\n",
            "toxic\n",
            "1    56.72147\n",
            "0    43.27853\n",
            "Name: proportion, dtype: float64\n"
          ]
        }
      ],
      "source": [
        "print(df.head())\n",
        "\n",
        "print(df['toxic'].value_counts())\n",
        "print(df['toxic'].value_counts(normalize=True) * 100)"
      ]
    },
    {
      "cell_type": "code",
      "execution_count": 56,
      "metadata": {
        "colab": {
          "base_uri": "https://localhost:8080/"
        },
        "id": "u9dDXNuCxnId",
        "outputId": "b0d529e2-57e0-4c33-b048-fc14fbc1d385"
      },
      "outputs": [
        {
          "name": "stdout",
          "output_type": "stream",
          "text": [
            "Training set size: 1654\n",
            "Testing set size: 414\n",
            "TF-IDF matrix shape (training): (1654, 5000)\n",
            "TF-IDF matrix shape (testing): (414, 5000)\n",
            "Number of features: 5000\n",
            "\n",
            "Sample feature names:\n",
            "['aamiin' 'abang' 'abg' 'abg mandi' 'abis' 'acara' 'aceh' 'acting' 'ada'\n",
            " 'ada aja' 'ada ajaran' 'ada anjing' 'ada apa' 'ada di' 'ada gunanya'\n",
            " 'ada hubungan' 'ada hubunganya' 'ada itu' 'ada lagi' 'ada masalah']\n"
          ]
        }
      ],
      "source": [
        "X = df['comments']\n",
        "y = df['toxic']\n",
        "\n",
        "X_train, X_test, y_train, y_test = train_test_split(X, y, test_size=0.2, random_state=42, stratify=y)\n",
        "\n",
        "print(f\"Training set size: {len(X_train)}\")\n",
        "print(f\"Testing set size: {len(X_test)}\")\n",
        "\n",
        "tfidf_vectorizer = TfidfVectorizer(max_features=5000, ngram_range=(1, 2), min_df=2, max_df=0.95, strip_accents='unicode')\n",
        "\n",
        "X_train_tfidf = tfidf_vectorizer.fit_transform(X_train)\n",
        "X_test_tfidf = tfidf_vectorizer.transform(X_test)\n",
        "\n",
        "print(f\"TF-IDF matrix shape (training): {X_train_tfidf.shape}\")\n",
        "print(f\"TF-IDF matrix shape (testing): {X_test_tfidf.shape}\")\n",
        "print(f\"Number of features: {len(tfidf_vectorizer.get_feature_names_out())}\")\n",
        "\n",
        "print(\"\\nSample feature names:\")\n",
        "print(tfidf_vectorizer.get_feature_names_out()[:20])"
      ]
    },
    {
      "cell_type": "code",
      "execution_count": 57,
      "metadata": {
        "colab": {
          "base_uri": "https://localhost:8080/"
        },
        "id": "OikMSdMyxsQR",
        "outputId": "5a8e916a-c8be-46a1-ba24-efe9d8a6fc1c"
      },
      "outputs": [
        {
          "name": "stdout",
          "output_type": "stream",
          "text": [
            "Training and evaluating models\n",
            "\n",
            "Training Logistic Regression...\n",
            "Accuracy: 0.8116\n",
            "Precision: 0.8127\n",
            "Recall: 0.8681\n",
            "F1-Score: 0.8395\n",
            "\n",
            "Training Random Forest...\n",
            "Accuracy: 0.7947\n",
            "Precision: 0.8348\n",
            "Recall: 0.7957\n",
            "F1-Score: 0.8148\n",
            "\n",
            "Training SVM...\n",
            "Accuracy: 0.8019\n",
            "Precision: 0.8024\n",
            "Recall: 0.8638\n",
            "F1-Score: 0.8320\n",
            "\n",
            "Training Naive Bayes...\n",
            "Accuracy: 0.7899\n",
            "Precision: 0.7643\n",
            "Recall: 0.9106\n",
            "F1-Score: 0.8311\n"
          ]
        }
      ],
      "source": [
        "models = {'Logistic Regression': LogisticRegression(random_state=42, max_iter=1000), 'Random Forest': RandomForestClassifier(random_state=42, n_estimators=100), 'SVM': SVC(random_state=42, probability=True), 'Naive Bayes': MultinomialNB() }\n",
        "\n",
        "results = {}\n",
        "print(\"Training and evaluating models\")\n",
        "\n",
        "for name, model in models.items():\n",
        "    print(f\"\\nTraining {name}...\")\n",
        "    model.fit(X_train_tfidf, y_train)\n",
        "    y_pred = model.predict(X_test_tfidf)\n",
        "    y_pred_proba = model.predict_proba(X_test_tfidf)[:, 1]\n",
        "\n",
        "    accuracy = accuracy_score(y_test, y_pred)\n",
        "    precision = precision_score(y_test, y_pred)\n",
        "    recall = recall_score(y_test, y_pred)\n",
        "    f1 = f1_score(y_test, y_pred)\n",
        "\n",
        "    results[name] = {'model': model, 'accuracy': accuracy, 'precision': precision, 'recall': recall, 'f1': f1, 'predictions': y_pred, 'probabilities': y_pred_proba}\n",
        "\n",
        "    print(f\"Accuracy: {accuracy:.4f}\")\n",
        "    print(f\"Precision: {precision:.4f}\")\n",
        "    print(f\"Recall: {recall:.4f}\")\n",
        "    print(f\"F1-Score: {f1:.4f}\")"
      ]
    },
    {
      "cell_type": "code",
      "execution_count": 58,
      "metadata": {
        "colab": {
          "base_uri": "https://localhost:8080/"
        },
        "id": "1YIVP6S2TndC",
        "outputId": "d9d979bd-da18-42e7-e4c8-4c796434dbd6"
      },
      "outputs": [
        {
          "name": "stdout",
          "output_type": "stream",
          "text": [
            "Best model based on F1 score: Logistic Regression\n"
          ]
        }
      ],
      "source": [
        "best_model_name = max(results.keys(), key=lambda x: results[x]['f1'])\n",
        "print(f\"Best model based on F1 score: {best_model_name}\")"
      ]
    },
    {
      "cell_type": "code",
      "execution_count": 59,
      "metadata": {
        "colab": {
          "base_uri": "https://localhost:8080/"
        },
        "id": "C5B92tdIxtkq",
        "outputId": "7652d359-8f58-4b2e-e99b-9daadf8e3dc7"
      },
      "outputs": [
        {
          "name": "stdout",
          "output_type": "stream",
          "text": [
            "\n",
            "Performing hyperparameter tuning for Logistic Regression...\n",
            "Fitting 5 folds for each of 16 candidates, totalling 80 fits\n",
            "Best parameters: {'classifier__C': 1, 'classifier__penalty': 'l2', 'classifier__solver': 'liblinear'}\n",
            "Best cross-validation score: 0.8230\n",
            "\n",
            "Tuned Model Performance:\n",
            "Accuracy: 0.8116\n",
            "Precision: 0.8127\n",
            "Recall: 0.8681\n",
            "F1-Score: 0.8395\n"
          ]
        }
      ],
      "source": [
        "print(\"\\nPerforming hyperparameter tuning for Logistic Regression...\")\n",
        "\n",
        "param_grid = {'classifier__C': [0.1, 1, 10, 100], 'classifier__penalty': ['l1', 'l2'], 'classifier__solver': ['liblinear', 'saga'] }\n",
        "\n",
        "pipeline = Pipeline([('tfidf', TfidfVectorizer(max_features=5000, ngram_range=(1, 2), min_df=2, max_df=0.95)), ('classifier', LogisticRegression(random_state=42, max_iter=1000))])\n",
        "\n",
        "grid_search = GridSearchCV(pipeline, param_grid, cv=5, scoring='f1', n_jobs=-1, verbose=1)\n",
        "\n",
        "grid_search.fit(X_train, y_train)\n",
        "\n",
        "print(f\"Best parameters: {grid_search.best_params_}\")\n",
        "print(f\"Best cross-validation score: {grid_search.best_score_:.4f}\")\n",
        "best_model = grid_search.best_estimator_\n",
        "\n",
        "y_pred_tuned = best_model.predict(X_test)\n",
        "y_pred_proba_tuned = best_model.predict_proba(X_test)[:, 1]\n",
        "\n",
        "print(\"\\nTuned Model Performance:\")\n",
        "print(f\"Accuracy: {accuracy_score(y_test, y_pred_tuned):.4f}\")\n",
        "print(f\"Precision: {precision_score(y_test, y_pred_tuned):.4f}\")\n",
        "print(f\"Recall: {recall_score(y_test, y_pred_tuned):.4f}\")\n",
        "print(f\"F1-Score: {f1_score(y_test, y_pred_tuned):.4f}\")\n",
        "\n",
        "results['Logistic Regression (Tuned)'] = {\n",
        "    'model': best_model,\n",
        "    'accuracy': accuracy_score(y_test, y_pred_tuned),\n",
        "    'precision': precision_score(y_test, y_pred_tuned),\n",
        "    'recall': recall_score(y_test, y_pred_tuned),\n",
        "    'f1': f1_score(y_test, y_pred_tuned),\n",
        "    'predictions': y_pred_tuned,\n",
        "    'probabilities': y_pred_proba_tuned\n",
        "}\n"
      ]
    },
    {
      "cell_type": "code",
      "execution_count": 60,
      "metadata": {
        "colab": {
          "base_uri": "https://localhost:8080/",
          "height": 859
        },
        "id": "FNBisxB5xxfQ",
        "outputId": "de4b18a1-4774-42d8-e3f3-fe3fbe7ea4f1"
      },
      "outputs": [
        {
          "data": {
            "image/png": "[encoded data removed]",
            "text/plain": [
              "<Figure size 800x600 with 2 Axes>"
            ]
          },
          "metadata": {},
          "output_type": "display_data"
        },
        {
          "name": "stdout",
          "output_type": "stream",
          "text": [
            "\n",
            "Detailed Classification Report - Logistic Regression\n",
            "              precision    recall  f1-score   support\n",
            "\n",
            "   Non-Toxic       0.81      0.74      0.77       179\n",
            "       Toxic       0.81      0.87      0.84       235\n",
            "\n",
            "    accuracy                           0.81       414\n",
            "   macro avg       0.81      0.80      0.81       414\n",
            "weighted avg       0.81      0.81      0.81       414\n",
            "\n",
            "\n",
            "Additional Metrics:\n",
            "Specificity (True Negative Rate): 0.7374\n",
            "Sensitivity (True Positive Rate): 0.8681\n",
            "False Positive Rate: 0.2626\n",
            "False Negative Rate: 0.1319\n"
          ]
        }
      ],
      "source": [
        "best_results = results['Logistic Regression (Tuned)']\n",
        "best_model_name = 'Logistic Regression'\n",
        "\n",
        "y_pred = best_results['predictions']\n",
        "y_pred_proba = best_results['probabilities']\n",
        "\n",
        "cm = confusion_matrix(y_test, y_pred)\n",
        "\n",
        "plt.figure(figsize=(8, 6))\n",
        "sns.heatmap(cm, annot=True, fmt='d', cmap='Blues',\n",
        "            xticklabels=['Non-Toxic', 'Toxic'],\n",
        "            yticklabels=['Non-Toxic', 'Toxic'])\n",
        "plt.title(f'Confusion Matrix - {best_model_name}')\n",
        "plt.ylabel('True Label')\n",
        "plt.xlabel('Predicted Label')\n",
        "plt.show()\n",
        "\n",
        "print(f\"\\nDetailed Classification Report - {best_model_name}\")\n",
        "print(classification_report(y_test, y_pred, target_names=['Non-Toxic', 'Toxic']))\n",
        "\n",
        "tn, fp, fn, tp = cm.ravel()\n",
        "specificity = tn / (tn + fp)\n",
        "sensitivity = tp / (tp + fn)\n",
        "\n",
        "print(f\"\\nAdditional Metrics:\")\n",
        "print(f\"Specificity (True Negative Rate): {specificity:.4f}\")\n",
        "print(f\"Sensitivity (True Positive Rate): {sensitivity:.4f}\")\n",
        "print(f\"False Positive Rate: {fp/(fp+tn):.4f}\")\n",
        "print(f\"False Negative Rate: {fn/(fn+tp):.4f}\")"
      ]
    },
    {
      "cell_type": "code",
      "execution_count": 61,
      "metadata": {
        "colab": {
          "base_uri": "https://localhost:8080/"
        },
        "id": "7Ml7gyEsZSbJ",
        "outputId": "f45d4bb2-71e8-4642-abed-09702d00e03b"
      },
      "outputs": [
        {
          "name": "stdout",
          "output_type": "stream",
          "text": [
            "Masukkan komentar untuk diprediksi (ketik 'exit' untuk keluar):\n",
            "\n",
            "Komentar: halo nama saya rahmat\n",
            "\n",
            "Hasil Prediksi\n",
            "Teks asli: halo nama saya rahmat\n",
            "Preprocessed: halo nama saya rahmat\n",
            "Prediksi: Non-Toxic\n",
            "Keyakinan: 0.4558\n",
            "\n",
            "Komentar: exit\n",
            "Keluar dari prediksi.\n"
          ]
        }
      ],
      "source": [
        "def preprocess_text(text):\n",
        "    text = str(text).lower()\n",
        "    text = re.sub(r'http\\S+|www\\S+|https\\S+', '', text)\n",
        "    text = re.sub(r'@\\w+', '', text)\n",
        "    text = re.sub(r'#(\\w+)', r'\\1', text)\n",
        "    text = re.sub(r'\\s+', ' ', text)\n",
        "    text = re.sub(r'[^\\w\\s]', ' ', text)\n",
        "    return text.strip()\n",
        "\n",
        "def predict_from_input(model):\n",
        "    print(\"Masukkan komentar untuk diprediksi (ketik 'exit' untuk keluar):\\n\")\n",
        "\n",
        "    while True:\n",
        "        comment = input(\"Komentar: \")\n",
        "\n",
        "        if comment.lower() == 'exit':\n",
        "            print(\"Keluar dari prediksi.\")\n",
        "            break\n",
        "\n",
        "        processed = preprocess_text(comment)\n",
        "        pred = model.predict([processed])[0]\n",
        "        prob = model.predict_proba([processed])[0][1]\n",
        "\n",
        "        print(f\"\\nHasil Prediksi\")\n",
        "        print(f\"Teks asli: {comment}\")\n",
        "        print(f\"Preprocessed: {processed}\")\n",
        "        print(f\"Prediksi: {'Toxic' if pred else 'Non-Toxic'}\")\n",
        "        print(f\"Keyakinan: {prob:.4f}\\n\")\n",
        "\n",
        "predict_from_input(best_model)"
      ]
    },
    {
      "cell_type": "code",
      "execution_count": 62,
      "metadata": {
        "colab": {
          "base_uri": "https://localhost:8080/"
        },
        "id": "bfyZuwygxzYa",
        "outputId": "cd9d19dc-95d0-4804-bf28-0a92c6b3ff00"
      },
      "outputs": [
        {
          "name": "stdout",
          "output_type": "stream",
          "text": [
            "Model saved as: /content/drive/MyDrive/projek/model/RedditToxiScan/toxic_detection_model.pkl\n"
          ]
        }
      ],
      "source": [
        "save_path = '/content/drive/MyDrive/projek/model/RedditToxiScan'\n",
        "\n",
        "model_filename = os.path.join(save_path, 'toxic_detection_model.pkl')\n",
        "vectorizer_filename = os.path.join(save_path, 'tfidf_vectorizer.pkl')\n",
        "\n",
        "if hasattr(best_model, 'named_steps'):\n",
        "    with open(model_filename, 'wb') as f:\n",
        "        pickle.dump(best_model, f)\n",
        "    print(f\"Model saved as: {model_filename}\")\n",
        "else:\n",
        "    with open(model_filename, 'wb') as f:\n",
        "        pickle.dump(best_model, f)\n",
        "    with open(vectorizer_filename, 'wb') as f:\n",
        "        pickle.dump(tfidf_vectorizer, f)\n",
        "    print(f\"Model saved as: {model_filename}\")\n",
        "    print(f\"Vectorizer saved as: {vectorizer_filename}\")"
      ]
    }
  ],
  "metadata": {
    "colab": {
      "provenance": []
    },
    "kernelspec": {
      "display_name": "Python 3",
      "name": "python3"
    },
    "language_info": {
      "name": "python"
    }
  },
  "nbformat": 4,
  "nbformat_minor": 0
}
